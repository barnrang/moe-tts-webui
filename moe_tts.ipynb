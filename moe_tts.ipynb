{
  "cells": [
    {
      "cell_type": "markdown",
      "metadata": {
        "id": "yn6bRsO9Vjye"
      },
      "source": [
        "# Install"
      ]
    },
    {
      "cell_type": "code",
      "execution_count": null,
      "metadata": {
        "id": "UP9JAZMDVjyf"
      },
      "outputs": [],
      "source": [
        "\n",
        "!git clone https://github.com/kanjiisme/moe-tts-webui.git\n",
        "%cd /content/moe-tts-webui\n",
        "!pip install -r requirements.txt"
      ]
    },
    {
      "cell_type": "code",
      "execution_count": null,
      "metadata": {
        "id": "feRp1DJVXxeY"
      },
      "outputs": [],
      "source": [
        "%cd /content/moe-tts-webui/plugins\n",
        "!python setup.py install"
      ]
    },
    {
      "attachments": {},
      "cell_type": "markdown",
      "metadata": {},
      "source": [
        "Download model from here: https://github.com/Francis-Komizu/VITS"
      ]
    },
    {
      "cell_type": "code",
      "execution_count": null,
      "metadata": {
        "id": "toxxh_-bWB9o"
      },
      "outputs": [],
      "source": [
        "!gdown \"https://drive.google.com/u/0/uc?id=13MPvEhTlUIYFSx4R_mRpjpbO1uNDJ034&export=download&confirm=t&uuid=327b56f7-d57a-45be-990d-2e6d67b96120&at=ALgDtsxDPtVCp7AzFjCECKpU_aFV:1674908789266\" -O \"/content/Kissa (cafe) Sutera to shinigami no cho.zip\"\n",
        "!unzip \"/content/Kissa (cafe) Sutera to shinigami no cho.zip\" -d \"/content/moe-tts-webui/models/\""
      ]
    },
    {
      "cell_type": "markdown",
      "metadata": {
        "id": "2oJ1RPruVjyg"
      },
      "source": [
        "# Run"
      ]
    },
    {
      "cell_type": "code",
      "execution_count": null,
      "metadata": {
        "id": "YLyvaRMnVjyg"
      },
      "outputs": [],
      "source": [
        "%cd /content/moe-tts-webui/\n",
        "!python app.py --displaywave --device cpu --share"
      ]
    }
  ],
  "metadata": {
    "colab": {
      "provenance": []
    },
    "gpuClass": "standard",
    "kernelspec": {
      "display_name": "Python 3",
      "language": "python",
      "name": "python3"
    },
    "language_info": {
      "name": "python",
      "version": "3.10.9 (tags/v3.10.9:1dd9be6, Dec  6 2022, 20:01:21) [MSC v.1934 64 bit (AMD64)]"
    },
    "orig_nbformat": 4,
    "vscode": {
      "interpreter": {
        "hash": "807cc6a481f25a5b222cd58a3949a299ed2f2634387eaba6775d5c01f71eeb59"
      }
    }
  },
  "nbformat": 4,
  "nbformat_minor": 0
}
